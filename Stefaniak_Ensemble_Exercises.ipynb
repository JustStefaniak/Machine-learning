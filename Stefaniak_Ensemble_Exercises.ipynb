{
 "cells": [
  {
   "cell_type": "markdown",
   "metadata": {},
   "source": [
    "# Ensemble methods. Exercises\n",
    "\n",
    "\n",
    "In this section we have only one exercise:\n",
    "\n",
    "1. Find the best three classifier in the stacking method using the classifiers from scikit-learn package, such as:\n",
    "\n",
    "\n",
    "* Linear regression,\n",
    "* Nearest Neighbors,\n",
    "* Linear SVM,\n",
    "* Decision Tree,\n",
    "* Naive Bayes,\n",
    "* QDA."
   ]
  },
  {
   "cell_type": "code",
   "execution_count": 6,
   "metadata": {},
   "outputs": [],
   "source": [
    "%store -r data_set\n",
    "%store -r labels\n",
    "%store -r test_data_set\n",
    "%store -r test_labels\n",
    "%store -r unique_labels"
   ]
  },
  {
   "cell_type": "markdown",
   "metadata": {},
   "source": [
    "## Exercise 1: Find the best three classifier in the stacking method"
   ]
  },
  {
   "cell_type": "code",
   "execution_count": 7,
   "metadata": {},
   "outputs": [],
   "source": [
    "import numpy as np\n",
    "from sklearn.metrics import accuracy_score\n",
    "\n",
    "from sklearn.linear_model import LinearRegression\n",
    "from sklearn.neighbors import KNeighborsClassifier\n",
    "from sklearn.svm import SVC\n",
    "from sklearn.tree import DecisionTreeClassifier\n",
    "from sklearn.naive_bayes import GaussianNB\n",
    "from sklearn.discriminant_analysis import QuadraticDiscriminantAnalysis\n",
    "\n",
    "from itertools import combinations"
   ]
  },
  {
   "cell_type": "code",
   "execution_count": 8,
   "metadata": {},
   "outputs": [],
   "source": [
    "def build_classifiers():\n",
    "    \n",
    "    linear_regression = LinearRegression()\n",
    "    linear_regression.fit(data_set, labels)\n",
    "    \n",
    "    neighbors = KNeighborsClassifier()\n",
    "    neighbors.fit(data_set, labels)\n",
    "    \n",
    "    svc = SVC(gamma='auto')\n",
    "    svc.fit(data_set, labels)\n",
    "    \n",
    "    decision_tree = DecisionTreeClassifier()\n",
    "    decision_tree.fit(data_set, labels)\n",
    "\n",
    "    gaussian = GaussianNB()\n",
    "    gaussian.fit(data_set, labels)\n",
    "    \n",
    "    qda = QuadraticDiscriminantAnalysis()\n",
    "    qda.fit(data_set, labels)\n",
    "    \n",
    "    classifiers = [linear_regression, neighbors, svc, decision_tree, gaussian, qda]\n",
    "    comb = combinations(classifiers, 3)\n",
    "\n",
    "    return comb"
   ]
  },
  {
   "cell_type": "code",
   "execution_count": 9,
   "metadata": {},
   "outputs": [],
   "source": [
    "def build_stacked_classifier(combinations):\n",
    "    for classifiers in combinations:\n",
    "        output = []\n",
    "        trio = []\n",
    "        for classifier in classifiers:\n",
    "            output.append(classifier.predict(data_set))\n",
    "            trio.append(classifier.__class__.__name__)\n",
    "        output = np.array(output).reshape((130,3))\n",
    "    \n",
    "        # stacked classifier part:\n",
    "        stacked_classifier = DecisionTreeClassifier() # For stacked classifier - DecisionTree CLassifier\n",
    "        stacked_classifier.fit(output.reshape((130,3)), labels.reshape((130,)))\n",
    "        test_set = []\n",
    "        for classifier in classifiers:\n",
    "            test_set.append(classifier.predict(test_data_set))\n",
    "        test_set = np.array(test_set).reshape((len(test_set[0]),3))\n",
    "        predicted = stacked_classifier.predict(test_set)\n",
    "        \n",
    "        accuracy = accuracy_score(test_labels, predicted)\n",
    "        print(trio[0],\"+\",trio[1],\"+\",trio[2],\" --> \",accuracy)\n"
   ]
  },
  {
   "cell_type": "code",
   "execution_count": 10,
   "metadata": {},
   "outputs": [
    {
     "name": "stdout",
     "output_type": "stream",
     "text": [
      "LinearRegression + KNeighborsClassifier + SVC  -->  0.65\n",
      "LinearRegression + KNeighborsClassifier + DecisionTreeClassifier  -->  0.7\n",
      "LinearRegression + KNeighborsClassifier + GaussianNB  -->  0.7\n",
      "LinearRegression + KNeighborsClassifier + QuadraticDiscriminantAnalysis  -->  0.75\n",
      "LinearRegression + SVC + DecisionTreeClassifier  -->  0.65\n",
      "LinearRegression + SVC + GaussianNB  -->  0.1\n",
      "LinearRegression + SVC + QuadraticDiscriminantAnalysis  -->  0.65\n",
      "LinearRegression + DecisionTreeClassifier + GaussianNB  -->  0.1\n",
      "LinearRegression + DecisionTreeClassifier + QuadraticDiscriminantAnalysis  -->  0.75\n",
      "LinearRegression + GaussianNB + QuadraticDiscriminantAnalysis  -->  0.6\n",
      "KNeighborsClassifier + SVC + DecisionTreeClassifier  -->  0.85\n",
      "KNeighborsClassifier + SVC + GaussianNB  -->  0.0\n",
      "KNeighborsClassifier + SVC + QuadraticDiscriminantAnalysis  -->  0.85\n",
      "KNeighborsClassifier + DecisionTreeClassifier + GaussianNB  -->  0.0\n",
      "KNeighborsClassifier + DecisionTreeClassifier + QuadraticDiscriminantAnalysis  -->  0.9\n",
      "KNeighborsClassifier + GaussianNB + QuadraticDiscriminantAnalysis  -->  0.85\n",
      "SVC + DecisionTreeClassifier + GaussianNB  -->  0.1\n",
      "SVC + DecisionTreeClassifier + QuadraticDiscriminantAnalysis  -->  0.95\n",
      "SVC + GaussianNB + QuadraticDiscriminantAnalysis  -->  0.8\n",
      "DecisionTreeClassifier + GaussianNB + QuadraticDiscriminantAnalysis  -->  0.85\n"
     ]
    }
   ],
   "source": [
    "classifiers = build_classifiers()\n",
    "predicted = build_stacked_classifier(classifiers)"
   ]
  },
  {
   "cell_type": "markdown",
   "metadata": {},
   "source": [
    "### The best set is (SVC + DecisionTreeClassifier + QuadraticDiscriminantAnalysis) which gives us 0.95 of accuracy."
   ]
  },
  {
   "cell_type": "code",
   "execution_count": null,
   "metadata": {},
   "outputs": [],
   "source": []
  }
 ],
 "metadata": {
  "kernelspec": {
   "display_name": "Python 3",
   "language": "python",
   "name": "python3"
  },
  "language_info": {
   "codemirror_mode": {
    "name": "ipython",
    "version": 3
   },
   "file_extension": ".py",
   "mimetype": "text/x-python",
   "name": "python",
   "nbconvert_exporter": "python",
   "pygments_lexer": "ipython3",
   "version": "3.6.8"
  }
 },
 "nbformat": 4,
 "nbformat_minor": 2
}
